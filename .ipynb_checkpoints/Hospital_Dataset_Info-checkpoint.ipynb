{
 "cells": [
  {
   "cell_type": "markdown",
   "id": "d250697a-0620-4ad2-a3e4-63d1cfac9bb6",
   "metadata": {},
   "source": [
    "## MARKDOWN"
   ]
  },
  {
   "cell_type": "markdown",
   "id": "3d250de2-ecaa-4ba9-a4b8-7bff116f2892",
   "metadata": {},
   "source": [
    "### About This Dataset\n",
    "Looking for a dataset on hospitals in the United States? Look no further! This dataset contains information on all of the hospitals registered with Medicare in the US, including their addresses, phone numbers, hospital type, and more. With such a large amount of data, this dataset is perfect for anyone interested in studying the US healthcare system.\n",
    "This dataset can also be used to study hospital ownership, emergency services"
   ]
  },
  {
   "cell_type": "markdown",
   "id": "4ed02e20-e0a2-4854-aa1a-ccd1c71e5283",
   "metadata": {},
   "source": [
    "### How to use the dataset\n",
    "If you want to study the US healthcare system, this dataset is perfect for you. It contains information on all of the hospitals registered with Medicare, including their addresses, phone numbers, hospital type, and more. With such a large amount of data, this dataset is perfect for anyone interested in studying the US healthcare system.\n",
    "This dataset can also be used to study hospital ownership, emergency services, and EHR usage. In addition, the hospital overall rating and various comparisons are included for safety of care, readmission rates"
   ]
  },
  {
   "cell_type": "markdown",
   "id": "17275953-5c57-49c9-9d4b-d2214dffc2f4",
   "metadata": {},
   "source": [
    "### Research Ideas\n",
    "1. Predicting readmission rates for different hospital conditions\n",
    "2. Analyzing relationships between hospital ownership and quality of care\n",
    "3. Studying the relationship between hospital type and patient experience"
   ]
  },
  {
   "cell_type": "markdown",
   "id": "e8e57c15-0d05-4452-ae33-74d03c7e7524",
   "metadata": {},
   "source": [
    "File: Hospital_General_Information.csv\n",
    "|Column Name| Description|\n",
    "|-------------|-------------|\n",
    "|Hospital Name| \tThe name of the hospital. (String)\n",
    "|Hospital Name|\tThe name of the hospital. (String)\n",
    "|Address\t|The address of the hospital. (String)\n",
    "|Address\t|The address of the hospital. (String)\n",
    "|City\t|The city in which the hospital is located. (String)\n",
    "|City\t|The city in which the hospital is located. (String)\n",
    "|State\t|The state in which the hospital is located. (String)\n",
    "|State\t|The state in which the hospital is located. (String)\n",
    "|ZIP Code\t|The ZIP code of the hospital. (Integer)\n",
    "|ZIP Code\t|The ZIP code of the hospital. (Integer)\n",
    "|County Name\t|The county in which the hospital is located. (String)\n",
    "|County Name\t|The county in which the hospital is located. (String)\n",
    "|Phone Number\t|The phone number of the hospital. (String)\n",
    "|Phone Number\t|The phone number of the hospital. (String)\n",
    "|Hospital Type\t|The type of hospital. (String)\n",
    "|Hospital Type\t|The type of hospital. (String)\n",
    "|Hospital Ownership |\tThe ownership of the hospital. (String)\n",
    "|Hospital Ownership\t|The ownership of the hospital. (String)\n",
    "|Emergency Services\t|Whether or not the hospital has emergency services. (Boolean)\n",
    "|Emergency Services\t|Whether or not the hospital has emergency services. (Boolean)\n",
    "|Meets criteria for meaningful use of EHRs |\tWhether or not the hospital meets the criteria for meaningful use of electronic health records. (Boolean)\n",
    "|Meets criteria for meaningful use of EHRs|\tWhether or not the hospital meets the criteria for meaningful use of electronic health records. (Boolean)\n",
    "|Hospital overall rating\t|The hospital's overall rating. (Float)\n",
    "|Hospital overall rating\t|The hospital's overall rating. (Float)\n",
    "|Hospital overall rating footnote\t|A footnote for the hospital's overall rating. (String)\n",
    "|Hospital overall rating footnote\t|A footnote for the hospital's overall rating. (String)\n",
    "|Mortality national comparison\t|The hospital's mortality national comparison. (String)\n",
    "|Mortality national comparison\t|The hospital's mortality national comparison. (String)\n",
    "|Mortality national comparison footnote\t|A footnote for the hospital's mortality national comparison. (String)\n",
    "|Mortality national comparison footnote|\tA footnote for the hospital's mortality national comparison. (String)\n",
    "|Safety of care national comparison\t|The hospital's safety of care national comparison.(\n",
    "|Safety of care national comparison\t|The hospital's safety of care national comparison. (String)\n",
    "|Safety of care national comparison footnote\t|A footnote for the hospital's safety of care national comparison. (String)\n",
    "|Safety of care national comparison footnote\t|A footnote for the hospital's safety of care national comparison. (String)\n",
    "|Readmission national comparison\t|The hospital's readmission national comparison. (String)\n",
    "|Readmission national comparison\t|The hospital's readmission national comparison. (String)\n",
    "|Readmission national comparison footnote\t|A footnote for the hospital's readmission national comparison. (String)\n",
    "|Readmission national comparison footnote\t|A footnote for the hospital's readmission national comparison. (String)\n",
    "|Patient experience national comparison\t|The hospital's patient experience national comparison. (String)\n",
    "|Patient experience national comparison\t|The hospital's patient experience national comparison. (String)\n",
    "|Patient experience national comparison footnote\t|A footnote for the hospital's patient experience national comparison. (String)\n",
    "|Patient experience national comparison footnote\t|A footnote for the hospital's patient experience national comparison. (String)\n",
    "|Effectiveness of care national comparison\t|The hospital's effectiveness of care national comparison. (String)\n",
    "|Effectiveness of care national comparison\t|The hospital's effectiveness of care national comparison. (String)\n",
    "|Effectiveness of care national comparison footnote\t|A footnote for the hospital's effectiveness of care national comparison. (String)\n",
    "|Effectiveness of care national comparison footnote\t|A footnote for the hospital's effectiveness of care national comparison. (String)\n",
    "|Timeliness of care national comparison|\tThe hospital's timeliness of care national comparison. (String)\n",
    "|Timeliness of care national comparison\t|The hospital's timeliness of care national comparison. (String)\n"
   ]
  },
  {
   "cell_type": "markdown",
   "id": "14b4efa0-faa7-4d9d-bfd6-fc35cbd3ca06",
   "metadata": {},
   "source": [
    "File: Hospital_Locations.csv\n",
    "| Column name| Description|\n",
    "| ------------ | -----------|\n",
    "|X\t|The longitude of the hospital. (Float)\n",
    "|Y\t|The latitude of the hospital. (Float)\n",
    "|NAME\t|The name of the hospital. (String)\n",
    "|ADDRESS\t|The address of the hospital. (String)\n",
    "|CITY\t|The city of the hospital. (String)\n",
    "|STATE\t|The state of the hospital. (String)\n",
    "|ZIP\t|The ZIP code of the hospital. (String)\n",
    "|ZIP4\t|The ZIP+4 code of the hospital. (String)\n",
    "|TELEPHONE\t|The telephone number of the hospital. (String)\n",
    "|TYPE\t|The type of hospital. (String)\n",
    "|STATUS\t|The status of the hospital. (String)\n",
    "|POPULATION |The population of the hospital. (Integer)\n",
    "|COUNTY\t|The county of the hospital. (String)\n",
    "|COUNTYFIPS\t|The county FIPS code of the hospital. (String)\n",
    "|COUNTRY\t|The country of the hospital. (String)\n",
    "|LATITUDE\t|The latitude of the hospital. (Float)\n",
    "|LONGITUDE\t|The longitude of the hospital. (Float)\n",
    "|NAICS_CODE\t|The NAICS code of the hospital. (String)\n",
    "|NAICS_DESC\t|The NAICS description of the hospital. (String)\n",
    "|SOURCE\t|The source of the hospital data. (String)\n",
    "|SOURCEDATE\t|The date the hospital data was collected. (Date)\n",
    "|VAL_METHOD\t|The method used to validate the hospital data. (String)\n",
    "|VAL_DATE\t|The date the hospital data was validated. (Date)\n",
    "|WEBSITE\t|The website of the hospital. (String)\n",
    "|ALT_NAME\t|An alternate name for the hospital. (String)\n",
    "|ST_FIPS\t|The state FIPS code of the hospital. (String)\n",
    "|OWNER\t|The owner of the hospital. (String)\n",
    "|TTL_STAFF\t|The total staff of the hospital. (Integer)\n",
    "|BEDS\t|The total beds of the hospital. (Integer)\n",
    "|TRAUMA\t|The trauma level of the hospital. (String)\n",
    "|HELIPAD\t|The helipad status of the hospital. (String)\n"
   ]
  },
  {
   "cell_type": "code",
   "execution_count": null,
   "id": "e724d43a-04c4-4c67-824d-7a679b12945b",
   "metadata": {},
   "outputs": [],
   "source": []
  }
 ],
 "metadata": {
  "kernelspec": {
   "display_name": "PythonData",
   "language": "python",
   "name": "pythondata"
  },
  "language_info": {
   "codemirror_mode": {
    "name": "ipython",
    "version": 3
   },
   "file_extension": ".py",
   "mimetype": "text/x-python",
   "name": "python",
   "nbconvert_exporter": "python",
   "pygments_lexer": "ipython3",
   "version": "3.12.0"
  }
 },
 "nbformat": 4,
 "nbformat_minor": 5
}
