{
 "cells": [
  {
   "cell_type": "markdown",
   "id": "d250697a-0620-4ad2-a3e4-63d1cfac9bb6",
   "metadata": {},
   "source": [
    "## MARKDOWN"
   ]
  },
  {
   "cell_type": "code",
   "execution_count": null,
   "id": "2f3e5983-d36c-46c6-b765-db79fd2b9565",
   "metadata": {},
   "outputs": [],
   "source": []
  }
 ],
 "metadata": {
  "kernelspec": {
   "display_name": "PythonData",
   "language": "python",
   "name": "pythondata"
  },
  "language_info": {
   "codemirror_mode": {
    "name": "ipython",
    "version": 3
   },
   "file_extension": ".py",
   "mimetype": "text/x-python",
   "name": "python",
   "nbconvert_exporter": "python",
   "pygments_lexer": "ipython3",
   "version": "3.12.0"
  }
 },
 "nbformat": 4,
 "nbformat_minor": 5
}
